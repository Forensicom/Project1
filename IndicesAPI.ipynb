# This is the Pandas code used to pull EoD Historical Data specific to 15 Major Market Indices around the world.
# I purchased a subscription ot their API and implemented their library.
# The data is filtered to the 'close' column and Nulls are dropped.
# The time period of the data collected is 10 years.

# Importing libraries, including the EoD Historical Data library.
import os
import pandas as pd
import requests
import datetime
import calendar
from eod import EodHistoricalData
from dotenv import load_dotenv

# Creating a variable that holds the API key
load_dotenv()
api_key = os.getenv("EOD_API_KEY")
client = EodHistoricalData(api_key)
# -------------------------------------------
# Time Series request to eodhistoricaldata.com
# Specific to Dow Jones Industrial Average
# 10 year period. Limited output to a single column named 'close' which is the daily close for that index.
# Renamed close column to DJIA, to aid with concatenation of dataframes later on.
# Data cleaning: Removed NULLs

ticker = "DJIA.US"
start_date = "2013-01-01" 
end_date = "2023-04-12"

djia_response = client.get_prices_eod(ticker, period = 'd', from_ = start_date, to = end_date, order = 'a')
djia_data = pd.DataFrame(djia_response)
djia_data = djia_data.set_index('date')
djia_data = djia_data[['close']]
djia_data = djia_data.rename(columns={"close":"DJIA"})
djia_data = djia_data.dropna()
djia_data.tail()
# ------------------------------------------
# Time Series request to eodhistoricaldata.com
# Specific S&P 500 INDEX FUND S&P 500 INDEX FUND-MEMBER SHARES
# 10 year period. Limited output to a single column named 'close' which is the daily close for that index.
# Renamed close column to DJIA, to aid with aggregation of data later on.
# Data cleaning: Removed NULLs

ticker = "USSPX.US"
start_date = "2013-01-01" 
end_date = "2023-04-12"

gspc_response = client.get_prices_eod(ticker, period = 'd', from_ = start_date, to = end_date, order = 'a')
gspc_data = pd.DataFrame(gspc_response)
gspc_data = gspc_data.set_index('date')
gspc_data = gspc_data[['close']]
gspc_data = gspc_data.rename(columns={"close":"GSPC"})
gspc_data = gspc_data.dropna()
gspc_data.tail()
# -----------------------------------------

# I am working on grabbing data from about 12 other major market indices throughout the world.















