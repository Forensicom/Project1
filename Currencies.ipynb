{
 "cells": [
  {
   "cell_type": "code",
   "execution_count": 25,
   "id": "4642ae44-31b1-4569-a2a8-27ee3ecd3221",
   "metadata": {},
   "outputs": [
    {
     "ename": "KeyError",
     "evalue": "'USD close'",
     "output_type": "error",
     "traceback": [
      "\u001b[0;31m---------------------------------------------------------------------------\u001b[0m",
      "\u001b[0;31mKeyError\u001b[0m                                  Traceback (most recent call last)",
      "\u001b[0;32m/var/folders/bv/bjg_2tj90893sfs5qcg53s540000gp/T/ipykernel_14762/2148078420.py\u001b[0m in \u001b[0;36m<module>\u001b[0;34m\u001b[0m\n\u001b[1;32m     35\u001b[0m             \u001b[0;32mfor\u001b[0m \u001b[0mc\u001b[0m \u001b[0;32min\u001b[0m \u001b[0mcurrencies\u001b[0m\u001b[0;34m:\u001b[0m\u001b[0;34m\u001b[0m\u001b[0;34m\u001b[0m\u001b[0m\n\u001b[1;32m     36\u001b[0m                 \u001b[0;32mif\u001b[0m \u001b[0mc\u001b[0m \u001b[0;34m!=\u001b[0m \u001b[0mcurr\u001b[0m\u001b[0;34m:\u001b[0m\u001b[0;34m\u001b[0m\u001b[0;34m\u001b[0m\u001b[0m\n\u001b[0;32m---> 37\u001b[0;31m                     \u001b[0mclose_rate\u001b[0m \u001b[0;34m=\u001b[0m \u001b[0mdata\u001b[0m\u001b[0;34m[\u001b[0m\u001b[0mrow\u001b[0m\u001b[0;34m]\u001b[0m\u001b[0;34m[\u001b[0m\u001b[0;34mf\"{c} close\"\u001b[0m\u001b[0;34m]\u001b[0m\u001b[0;34m\u001b[0m\u001b[0;34m\u001b[0m\u001b[0m\n\u001b[0m\u001b[1;32m     38\u001b[0m                     \u001b[0mrow_data\u001b[0m\u001b[0;34m.\u001b[0m\u001b[0mappend\u001b[0m\u001b[0;34m(\u001b[0m\u001b[0mclose_rate\u001b[0m\u001b[0;34m)\u001b[0m\u001b[0;34m\u001b[0m\u001b[0;34m\u001b[0m\u001b[0m\n\u001b[1;32m     39\u001b[0m \u001b[0;34m\u001b[0m\u001b[0m\n",
      "\u001b[0;31mKeyError\u001b[0m: 'USD close'"
     ]
    }
   ],
   "source": [
    "import requests\n",
    "\n",
    "# Define the currencies you want to compare\n",
    "currencies = [\"AUD\", \"USD\", \"CNY\", \"GBP\", \"EUR\", \"INR\"]\n",
    "\n",
    "# Define the base currency\n",
    "base_currency = \"CAD\"\n",
    "\n",
    "# Define the start date\n",
    "start_date = \"1999-01-01\"\n",
    "\n",
    "# Define the API key\n",
    "api_key = \"<MHPR0MZP3OSVXLIA>\"\n",
    "\n",
    "# Initialize an empty list to hold the rows\n",
    "rows = []\n",
    "\n",
    "# Loop over the currencies\n",
    "for curr in currencies:\n",
    "    # Make a request for each currency\n",
    "    url = f\"https://www.alphavantage.co/query?function=FX_DAILY&from_symbol={base_currency}&to_symbol={curr}&outputsize=full&apikey={api_key}&from={start_date}\"\n",
    "    response = requests.get(url)\n",
    "    \n",
    "    if response.status_code == 200:\n",
    "        data = response.json()[\"Time Series FX (Daily)\"]\n",
    "        for row in data:\n",
    "            # Extract the date and closing rate for the current currency\n",
    "            date = row\n",
    "            rate = data[row][\"4. close\"]\n",
    "            \n",
    "            # Append the date and closing rate to the row for the current currency\n",
    "            row_data = [date, rate]\n",
    "            \n",
    "            # Loop over the other currencies and extract the closing rates\n",
    "            for c in currencies:\n",
    "                if c != curr:\n",
    "                    close_rate = data[row][f\"{c} close\"]\n",
    "                    row_data.append(close_rate)\n",
    "            \n",
    "            # Add the row to the list of rows\n",
    "            rows.append(row_data)\n",
    "    else:\n",
    "        print(f\"Error: {response.status_code}\")\n",
    "\n",
    "# Define the column headers\n",
    "cols = [\"date\"] + [f\"{curr}_close\" for curr in currencies]\n",
    "\n",
    "# Print the column headers as a CSV string\n",
    "print(\",\".join(cols))\n",
    "\n",
    "# Loop over the rows and print them as CSV strings\n",
    "for row in rows:\n",
    "    print(\",\".join(str(x) for x in row))\n",
    "\n",
    "\n"
   ]
  },
  {
   "cell_type": "code",
   "execution_count": 22,
   "id": "108e121b-e344-4a80-bc62-eb7762265a43",
   "metadata": {},
   "outputs": [
    {
     "ename": "KeyError",
     "evalue": "'Time Series FX (Daily)'",
     "output_type": "error",
     "traceback": [
      "\u001b[0;31m---------------------------------------------------------------------------\u001b[0m",
      "\u001b[0;31mKeyError\u001b[0m                                  Traceback (most recent call last)",
      "\u001b[0;32m/var/folders/bv/bjg_2tj90893sfs5qcg53s540000gp/T/ipykernel_14762/423993328.py\u001b[0m in \u001b[0;36m<module>\u001b[0;34m\u001b[0m\n\u001b[1;32m      7\u001b[0m \u001b[0;34m\u001b[0m\u001b[0m\n\u001b[1;32m      8\u001b[0m \u001b[0;32mif\u001b[0m \u001b[0mresponse\u001b[0m\u001b[0;34m.\u001b[0m\u001b[0mstatus_code\u001b[0m \u001b[0;34m==\u001b[0m \u001b[0;36m200\u001b[0m\u001b[0;34m:\u001b[0m\u001b[0;34m\u001b[0m\u001b[0;34m\u001b[0m\u001b[0m\n\u001b[0;32m----> 9\u001b[0;31m     \u001b[0mdata\u001b[0m \u001b[0;34m=\u001b[0m \u001b[0mresponse\u001b[0m\u001b[0;34m.\u001b[0m\u001b[0mjson\u001b[0m\u001b[0;34m(\u001b[0m\u001b[0;34m)\u001b[0m\u001b[0;34m[\u001b[0m\u001b[0;34m\"Time Series FX (Daily)\"\u001b[0m\u001b[0;34m]\u001b[0m\u001b[0;34m\u001b[0m\u001b[0;34m\u001b[0m\u001b[0m\n\u001b[0m\u001b[1;32m     10\u001b[0m     \u001b[0mprint\u001b[0m\u001b[0;34m(\u001b[0m\u001b[0mdata\u001b[0m\u001b[0;34m)\u001b[0m \u001b[0;31m# Print the response content to see the keys present in the JSON object\u001b[0m\u001b[0;34m\u001b[0m\u001b[0;34m\u001b[0m\u001b[0m\n\u001b[1;32m     11\u001b[0m     \u001b[0;32mif\u001b[0m \u001b[0;34m\"Time Series FX (Daily)\"\u001b[0m \u001b[0;32min\u001b[0m \u001b[0mdata\u001b[0m\u001b[0;34m:\u001b[0m\u001b[0;34m\u001b[0m\u001b[0;34m\u001b[0m\u001b[0m\n",
      "\u001b[0;31mKeyError\u001b[0m: 'Time Series FX (Daily)'"
     ]
    }
   ],
   "source": [
    "\n",
    "\n",
    "    \n",
    "    \n",
    "import pandas as pd\n",
    "import requests\n",
    "\n",
    "url = \"https://www.alphavantage.co/query?function=FX_DAILY&from_symbol=CAD&to_symbol=USD,AUD,CNY,INR,GBP,EUR,JPY,RUB,HKD,SAR&outputsize=full&apikey=<MHPR0MZP3OSVXLIA>&from=1999-01-01\"\n",
    "\n",
    "response = requests.get(url)\n",
    "\n",
    "if response.status_code == 200:\n",
    "    data = response.json()[\"Time Series FX (Daily)\"]\n",
    "    print(data) # Print the response content to see the keys present in the JSON object\n",
    "    if \"Time Series FX (Daily)\" in data:\n",
    "        rows = list(data.keys())[::-1]  # Reverse the order of the rows\n",
    "        cols = [\"date\", \"CAD_close\", \"USD_close\", \"CNY_close\", \"GBP_close\", \"EUR_close\", \"AUD_close\", \"INR_close\", \"JPY_close\", \"RUB_close\", \"HKD_close\", \"SAR_close\"]  # Define the column headers\n",
    "        print(\",\".join(cols))  # Print the column headers as a CSV string\n",
    "        for row in rows:\n",
    "            cols = [row, data[row][\"4. close\"]]  # Extract the date and closing rate\n",
    "            print(\",\".join(cols))  # Print the row as a CSV string\n",
    "    else:\n",
    "        print(f\"Error: 'Time Series FX (Daily)' not found in response content\")\n",
    "else:\n",
    "    print(f\"Error: {response.status_code}\")\n",
    "\n",
    "\n",
    "\n",
    "  "
   ]
  },
  {
   "cell_type": "code",
   "execution_count": 7,
   "id": "c9cdd08b-b9ed-4216-9763-1363a7c5d9bf",
   "metadata": {},
   "outputs": [
    {
     "name": "stdout",
     "output_type": "stream",
     "text": [
      "Error fetching data: 'Time Series FX (Daily)' not found in response content\n"
     ]
    }
   ],
   "source": [
    "import requests\n",
    "import pandas as pd\n",
    "\n",
    "# Set API key and API URL\n",
    "apikey = \"MHPR0MZP3OSVXLIA\"\n",
    "url = f\"https://www.alphavantage.co/query?function=FX_DAILY_ADJUSTED&from_symbol=CAD&to_symbol=USD,AUD,CNY,INR,GBP,EUR,JPY,RUB,HKD,SAR&apikey={apikey}&outputsize=full&datatype=json\"\n",
    "\n",
    "# Make the API request and get the response\n",
    "response = requests.get(url)\n",
    "\n",
    "# Check if the response is valid\n",
    "if response.status_code == 200:\n",
    "    # Convert the response content to a Pandas dataframe\n",
    "    data = response.json()\n",
    "    if \"Time Series FX (Daily)\" in data:\n",
    "        df = pd.DataFrame.from_dict(data[\"Time Series FX (Daily)\"], orient=\"index\")\n",
    "        # Clean up the dataframe\n",
    "        df = df.rename(columns={\"1. open\": \"Open\", \"2. high\": \"High\", \"3. low\": \"Low\", \"4. close\": \"Close\", \"5. volume\": \"Volume\"})\n",
    "        df = df.astype(float)\n",
    "        df.index = pd.to_datetime(df.index)\n",
    "        # Filter the dataframe to only include the last 10 years\n",
    "        df = df.tail(3650)\n",
    "        # Print the resulting dataframe\n",
    "        print(df)\n",
    "    else:\n",
    "        print(f\"Error fetching data: 'Time Series FX (Daily)' not found in response content\")\n",
    "else:\n",
    "    print(f\"Error fetching data: {response.status_code}\")\n",
    "\n"
   ]
  },
  {
   "cell_type": "code",
   "execution_count": null,
   "id": "c240af12-0c45-49df-bed2-353d6b89e54f",
   "metadata": {},
   "outputs": [],
   "source": []
  },
  {
   "cell_type": "code",
   "execution_count": null,
   "id": "a30ec2ee-9465-4f8b-b200-5f4b88ae4d64",
   "metadata": {},
   "outputs": [],
   "source": []
  }
 ],
 "metadata": {
  "kernelspec": {
   "display_name": "Python 3 (ipykernel)",
   "language": "python",
   "name": "python3"
  },
  "language_info": {
   "codemirror_mode": {
    "name": "ipython",
    "version": 3
   },
   "file_extension": ".py",
   "mimetype": "text/x-python",
   "name": "python",
   "nbconvert_exporter": "python",
   "pygments_lexer": "ipython3",
   "version": "3.9.13"
  }
 },
 "nbformat": 4,
 "nbformat_minor": 5
}
